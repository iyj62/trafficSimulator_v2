{
 "cells": [
  {
   "cell_type": "code",
   "execution_count": 1,
   "metadata": {},
   "outputs": [],
   "source": [
    "from src.trafficSimulator.core.vehicle import Vehicle\n",
    "from src.trafficSimulator import Vehicle"
   ]
  },
  {
   "cell_type": "code",
   "execution_count": 3,
   "metadata": {},
   "outputs": [],
   "source": [
    "#%%\n",
    "\n",
    "from src.trafficSimulator import *\n",
    "\n",
    "sim = Simulation()\n",
    "\n",
    "lane_space = 3.5\n",
    "intersection_size = 12\n",
    "length = 100\n",
    "\n",
    "# SOUTH, EAST, NORTH, WEST\n",
    "\n",
    "# Intersection in\n",
    "sim.create_segment((lane_space/2, length+intersection_size/2), (lane_space/2, intersection_size/2))\n",
    "sim.create_segment((length+intersection_size/2, -lane_space/2), (intersection_size/2, -lane_space/2))\n",
    "sim.create_segment((-lane_space/2, -length-intersection_size/2), (-lane_space/2, -intersection_size/2))\n",
    "sim.create_segment((-length-intersection_size/2, lane_space/2), (-intersection_size/2, lane_space/2))\n",
    "# Intersection out\n",
    "sim.create_segment((-lane_space/2, intersection_size/2), (-lane_space/2, length+intersection_size/2))\n",
    "sim.create_segment((intersection_size/2, lane_space/2), (length+intersection_size/2, lane_space/2))\n",
    "sim.create_segment((lane_space/2, -intersection_size/2), (lane_space/2, -length-intersection_size/2))\n",
    "sim.create_segment((-intersection_size/2, -lane_space/2), (-length-intersection_size/2, -lane_space/2))\n",
    "# Straight\n",
    "sim.create_segment((lane_space/2, intersection_size/2), (lane_space/2, -intersection_size/2))\n",
    "sim.create_segment((intersection_size/2, -lane_space/2), (-intersection_size/2, -lane_space/2))\n",
    "sim.create_segment((-lane_space/2, -intersection_size/2), (-lane_space/2, intersection_size/2))\n",
    "sim.create_segment((-intersection_size/2, lane_space/2), (intersection_size/2, lane_space/2))\n",
    "# Right turn\n",
    "sim.create_quadratic_bezier_curve((lane_space/2, intersection_size/2), (lane_space/2, lane_space/2), (intersection_size/2, lane_space/2))\n",
    "sim.create_quadratic_bezier_curve((intersection_size/2, -lane_space/2), (lane_space/2, -lane_space/2), (lane_space/2, -intersection_size/2))\n",
    "sim.create_quadratic_bezier_curve((-lane_space/2, -intersection_size/2), (-lane_space/2, -lane_space/2), (-intersection_size/2, -lane_space/2))\n",
    "sim.create_quadratic_bezier_curve((-intersection_size/2, lane_space/2), (-lane_space/2, lane_space/2), (-lane_space/2, intersection_size/2))\n",
    "# Left turn\n",
    "sim.create_quadratic_bezier_curve((lane_space/2, intersection_size/2), (lane_space/2, -lane_space/2), (-intersection_size/2, -lane_space/2))\n",
    "sim.create_quadratic_bezier_curve((intersection_size/2, -lane_space/2), (-lane_space/2, -lane_space/2), (-lane_space/2, intersection_size/2))\n",
    "sim.create_quadratic_bezier_curve((-lane_space/2, -intersection_size/2), (-lane_space/2, lane_space/2), (intersection_size/2, lane_space/2))\n",
    "sim.create_quadratic_bezier_curve((-intersection_size/2, lane_space/2), (lane_space/2, lane_space/2), (lane_space/2, -intersection_size/2))\n",
    "\n",
    "vg = VehicleGenerator({\n",
    "    'vehicles': [\n",
    "        (1, {'path': [0, 8, 6], 'v': 16.6}),\n",
    "        (1, {'path': [0, 12, 5], 'v': 16.6})\n",
    "        ]\n",
    "    })\n",
    "\n",
    "sim.add_vehicle_generator(vg)\n",
    "\n",
    "\n",
    "\n",
    "# v = Vehicle({'path': [0], 'x': 20, 'v':16.6})\n",
    "# sim.add_vehicle(v)\n",
    "\n",
    "# v = Vehicle({'path': [0]})\n",
    "# sim.add_vehicle(v)\n",
    "\n",
    "win = Window(sim)\n",
    "win.run()\n",
    "win.show()\n"
   ]
  }
 ],
 "metadata": {
  "kernelspec": {
   "display_name": "base",
   "language": "python",
   "name": "python3"
  },
  "language_info": {
   "codemirror_mode": {
    "name": "ipython",
    "version": 3
   },
   "file_extension": ".py",
   "mimetype": "text/x-python",
   "name": "python",
   "nbconvert_exporter": "python",
   "pygments_lexer": "ipython3",
   "version": "3.12.2"
  }
 },
 "nbformat": 4,
 "nbformat_minor": 2
}
